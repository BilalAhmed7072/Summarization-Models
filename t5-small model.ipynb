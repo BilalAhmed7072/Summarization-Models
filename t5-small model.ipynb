{
 "cells": [
  {
   "cell_type": "code",
   "execution_count": 1,
   "id": "f4d8787a",
   "metadata": {},
   "outputs": [
    {
     "name": "stdout",
     "output_type": "stream",
     "text": [
      "Requirement already satisfied: transformers in c:\\users\\asif computer\\appdata\\local\\programs\\python\\python310\\lib\\site-packages (4.48.3)\n",
      "Collecting datasets\n",
      "  Downloading datasets-4.0.0-py3-none-any.whl.metadata (19 kB)\n",
      "Collecting sentencepiece\n",
      "  Downloading sentencepiece-0.2.1-cp310-cp310-win_amd64.whl.metadata (10 kB)\n",
      "Collecting accelerate\n",
      "  Downloading accelerate-1.10.0-py3-none-any.whl.metadata (19 kB)\n",
      "Collecting evaluate\n",
      "  Downloading evaluate-0.4.5-py3-none-any.whl.metadata (9.5 kB)\n",
      "Requirement already satisfied: filelock in c:\\users\\asif computer\\appdata\\local\\programs\\python\\python310\\lib\\site-packages (from transformers) (3.17.0)\n",
      "Requirement already satisfied: huggingface-hub<1.0,>=0.24.0 in c:\\users\\asif computer\\appdata\\local\\programs\\python\\python310\\lib\\site-packages (from transformers) (0.28.1)\n",
      "Requirement already satisfied: numpy>=1.17 in c:\\users\\asif computer\\appdata\\local\\programs\\python\\python310\\lib\\site-packages (from transformers) (1.26.4)\n",
      "Requirement already satisfied: packaging>=20.0 in c:\\users\\asif computer\\appdata\\local\\programs\\python\\python310\\lib\\site-packages (from transformers) (24.2)\n",
      "Requirement already satisfied: pyyaml>=5.1 in c:\\users\\asif computer\\appdata\\local\\programs\\python\\python310\\lib\\site-packages (from transformers) (6.0.2)\n",
      "Requirement already satisfied: regex!=2019.12.17 in c:\\users\\asif computer\\appdata\\local\\programs\\python\\python310\\lib\\site-packages (from transformers) (2024.11.6)\n",
      "Requirement already satisfied: requests in c:\\users\\asif computer\\appdata\\local\\programs\\python\\python310\\lib\\site-packages (from transformers) (2.32.3)\n",
      "Requirement already satisfied: tokenizers<0.22,>=0.21 in c:\\users\\asif computer\\appdata\\local\\programs\\python\\python310\\lib\\site-packages (from transformers) (0.21.0)\n",
      "Requirement already satisfied: safetensors>=0.4.1 in c:\\users\\asif computer\\appdata\\local\\programs\\python\\python310\\lib\\site-packages (from transformers) (0.5.2)\n",
      "Requirement already satisfied: tqdm>=4.27 in c:\\users\\asif computer\\appdata\\local\\programs\\python\\python310\\lib\\site-packages (from transformers) (4.67.1)\n",
      "Requirement already satisfied: fsspec>=2023.5.0 in c:\\users\\asif computer\\appdata\\local\\programs\\python\\python310\\lib\\site-packages (from huggingface-hub<1.0,>=0.24.0->transformers) (2025.2.0)\n",
      "Requirement already satisfied: typing-extensions>=3.7.4.3 in c:\\users\\asif computer\\appdata\\local\\programs\\python\\python310\\lib\\site-packages (from huggingface-hub<1.0,>=0.24.0->transformers) (4.12.2)\n",
      "Collecting pyarrow>=15.0.0 (from datasets)\n",
      "  Downloading pyarrow-21.0.0-cp310-cp310-win_amd64.whl.metadata (3.4 kB)\n",
      "Collecting dill<0.3.9,>=0.3.0 (from datasets)\n",
      "  Downloading dill-0.3.8-py3-none-any.whl.metadata (10 kB)\n",
      "Requirement already satisfied: pandas in c:\\users\\asif computer\\appdata\\local\\programs\\python\\python310\\lib\\site-packages (from datasets) (2.2.3)\n",
      "Collecting xxhash (from datasets)\n",
      "  Downloading xxhash-3.5.0-cp310-cp310-win_amd64.whl.metadata (13 kB)\n",
      "Collecting multiprocess<0.70.17 (from datasets)\n",
      "  Downloading multiprocess-0.70.16-py310-none-any.whl.metadata (7.2 kB)\n",
      "Requirement already satisfied: aiohttp!=4.0.0a0,!=4.0.0a1 in c:\\users\\asif computer\\appdata\\local\\programs\\python\\python310\\lib\\site-packages (from fsspec[http]<=2025.3.0,>=2023.1.0->datasets) (3.11.18)\n",
      "Requirement already satisfied: psutil in c:\\users\\asif computer\\appdata\\local\\programs\\python\\python310\\lib\\site-packages (from accelerate) (6.1.1)\n",
      "Requirement already satisfied: torch>=2.0.0 in c:\\users\\asif computer\\appdata\\local\\programs\\python\\python310\\lib\\site-packages (from accelerate) (2.7.0)\n",
      "Requirement already satisfied: aiohappyeyeballs>=2.3.0 in c:\\users\\asif computer\\appdata\\local\\programs\\python\\python310\\lib\\site-packages (from aiohttp!=4.0.0a0,!=4.0.0a1->fsspec[http]<=2025.3.0,>=2023.1.0->datasets) (2.6.1)\n",
      "Requirement already satisfied: aiosignal>=1.1.2 in c:\\users\\asif computer\\appdata\\local\\programs\\python\\python310\\lib\\site-packages (from aiohttp!=4.0.0a0,!=4.0.0a1->fsspec[http]<=2025.3.0,>=2023.1.0->datasets) (1.3.2)\n",
      "Requirement already satisfied: async-timeout<6.0,>=4.0 in c:\\users\\asif computer\\appdata\\local\\programs\\python\\python310\\lib\\site-packages (from aiohttp!=4.0.0a0,!=4.0.0a1->fsspec[http]<=2025.3.0,>=2023.1.0->datasets) (4.0.3)\n",
      "Requirement already satisfied: attrs>=17.3.0 in c:\\users\\asif computer\\appdata\\local\\programs\\python\\python310\\lib\\site-packages (from aiohttp!=4.0.0a0,!=4.0.0a1->fsspec[http]<=2025.3.0,>=2023.1.0->datasets) (25.1.0)\n",
      "Requirement already satisfied: frozenlist>=1.1.1 in c:\\users\\asif computer\\appdata\\local\\programs\\python\\python310\\lib\\site-packages (from aiohttp!=4.0.0a0,!=4.0.0a1->fsspec[http]<=2025.3.0,>=2023.1.0->datasets) (1.6.0)\n",
      "Requirement already satisfied: multidict<7.0,>=4.5 in c:\\users\\asif computer\\appdata\\local\\programs\\python\\python310\\lib\\site-packages (from aiohttp!=4.0.0a0,!=4.0.0a1->fsspec[http]<=2025.3.0,>=2023.1.0->datasets) (6.4.3)\n",
      "Requirement already satisfied: propcache>=0.2.0 in c:\\users\\asif computer\\appdata\\local\\programs\\python\\python310\\lib\\site-packages (from aiohttp!=4.0.0a0,!=4.0.0a1->fsspec[http]<=2025.3.0,>=2023.1.0->datasets) (0.3.1)\n",
      "Requirement already satisfied: yarl<2.0,>=1.17.0 in c:\\users\\asif computer\\appdata\\local\\programs\\python\\python310\\lib\\site-packages (from aiohttp!=4.0.0a0,!=4.0.0a1->fsspec[http]<=2025.3.0,>=2023.1.0->datasets) (1.20.0)\n",
      "Requirement already satisfied: idna>=2.0 in c:\\users\\asif computer\\appdata\\local\\programs\\python\\python310\\lib\\site-packages (from yarl<2.0,>=1.17.0->aiohttp!=4.0.0a0,!=4.0.0a1->fsspec[http]<=2025.3.0,>=2023.1.0->datasets) (3.10)\n",
      "Requirement already satisfied: charset-normalizer<4,>=2 in c:\\users\\asif computer\\appdata\\local\\programs\\python\\python310\\lib\\site-packages (from requests->transformers) (3.4.1)\n",
      "Requirement already satisfied: urllib3<3,>=1.21.1 in c:\\users\\asif computer\\appdata\\local\\programs\\python\\python310\\lib\\site-packages (from requests->transformers) (2.3.0)\n",
      "Requirement already satisfied: certifi>=2017.4.17 in c:\\users\\asif computer\\appdata\\local\\programs\\python\\python310\\lib\\site-packages (from requests->transformers) (2025.1.31)\n",
      "Requirement already satisfied: sympy>=1.13.3 in c:\\users\\asif computer\\appdata\\local\\programs\\python\\python310\\lib\\site-packages (from torch>=2.0.0->accelerate) (1.14.0)\n",
      "Requirement already satisfied: networkx in c:\\users\\asif computer\\appdata\\local\\programs\\python\\python310\\lib\\site-packages (from torch>=2.0.0->accelerate) (3.4.2)\n",
      "Requirement already satisfied: jinja2 in c:\\users\\asif computer\\appdata\\local\\programs\\python\\python310\\lib\\site-packages (from torch>=2.0.0->accelerate) (3.1.5)\n",
      "Requirement already satisfied: mpmath<1.4,>=1.1.0 in c:\\users\\asif computer\\appdata\\local\\programs\\python\\python310\\lib\\site-packages (from sympy>=1.13.3->torch>=2.0.0->accelerate) (1.3.0)\n",
      "Requirement already satisfied: colorama in c:\\users\\asif computer\\appdata\\local\\programs\\python\\python310\\lib\\site-packages (from tqdm>=4.27->transformers) (0.4.6)\n",
      "Requirement already satisfied: MarkupSafe>=2.0 in c:\\users\\asif computer\\appdata\\local\\programs\\python\\python310\\lib\\site-packages (from jinja2->torch>=2.0.0->accelerate) (3.0.2)\n",
      "Requirement already satisfied: python-dateutil>=2.8.2 in c:\\users\\asif computer\\appdata\\local\\programs\\python\\python310\\lib\\site-packages (from pandas->datasets) (2.9.0.post0)\n",
      "Requirement already satisfied: pytz>=2020.1 in c:\\users\\asif computer\\appdata\\local\\programs\\python\\python310\\lib\\site-packages (from pandas->datasets) (2025.2)\n",
      "Requirement already satisfied: tzdata>=2022.7 in c:\\users\\asif computer\\appdata\\local\\programs\\python\\python310\\lib\\site-packages (from pandas->datasets) (2025.2)\n",
      "Requirement already satisfied: six>=1.5 in c:\\users\\asif computer\\appdata\\local\\programs\\python\\python310\\lib\\site-packages (from python-dateutil>=2.8.2->pandas->datasets) (1.17.0)\n",
      "Downloading datasets-4.0.0-py3-none-any.whl (494 kB)\n",
      "Downloading dill-0.3.8-py3-none-any.whl (116 kB)\n",
      "Downloading multiprocess-0.70.16-py310-none-any.whl (134 kB)\n",
      "Downloading sentencepiece-0.2.1-cp310-cp310-win_amd64.whl (1.1 MB)\n",
      "   ---------------------------------------- 0.0/1.1 MB ? eta -:--:--\n",
      "   ---------------------------------------- 1.1/1.1 MB 10.2 MB/s eta 0:00:00\n",
      "Downloading accelerate-1.10.0-py3-none-any.whl (374 kB)\n",
      "Downloading evaluate-0.4.5-py3-none-any.whl (84 kB)\n",
      "Downloading pyarrow-21.0.0-cp310-cp310-win_amd64.whl (26.2 MB)\n",
      "   ---------------------------------------- 0.0/26.2 MB ? eta -:--:--\n",
      "   ---------------------------------------- 0.3/26.2 MB ? eta -:--:--\n",
      "    --------------------------------------- 0.5/26.2 MB 932.9 kB/s eta 0:00:28\n",
      "   - -------------------------------------- 1.0/26.2 MB 1.5 MB/s eta 0:00:17\n",
      "   - -------------------------------------- 1.3/26.2 MB 1.5 MB/s eta 0:00:17\n",
      "   ----- ---------------------------------- 3.4/26.2 MB 3.1 MB/s eta 0:00:08\n",
      "   -------- ------------------------------- 5.8/26.2 MB 4.4 MB/s eta 0:00:05\n",
      "   ----------- ---------------------------- 7.9/26.2 MB 5.2 MB/s eta 0:00:04\n",
      "   --------------- ------------------------ 10.2/26.2 MB 5.9 MB/s eta 0:00:03\n",
      "   ------------------ --------------------- 12.3/26.2 MB 6.3 MB/s eta 0:00:03\n",
      "   --------------------- ------------------ 14.4/26.2 MB 6.8 MB/s eta 0:00:02\n",
      "   ------------------------- -------------- 17.0/26.2 MB 7.2 MB/s eta 0:00:02\n",
      "   ----------------------------- ---------- 19.4/26.2 MB 7.5 MB/s eta 0:00:01\n",
      "   --------------------------------- ------ 22.0/26.2 MB 7.9 MB/s eta 0:00:01\n",
      "   ------------------------------------- -- 24.6/26.2 MB 8.2 MB/s eta 0:00:01\n",
      "   ---------------------------------------- 26.2/26.2 MB 8.1 MB/s eta 0:00:00\n",
      "Downloading xxhash-3.5.0-cp310-cp310-win_amd64.whl (30 kB)\n",
      "Installing collected packages: xxhash, sentencepiece, pyarrow, dill, multiprocess, accelerate, datasets, evaluate\n",
      "\n",
      "   ---------- ----------------------------- 2/8 [pyarrow]\n",
      "   ---------- ----------------------------- 2/8 [pyarrow]\n",
      "   ---------- ----------------------------- 2/8 [pyarrow]\n",
      "   ---------- ----------------------------- 2/8 [pyarrow]\n",
      "   ---------- ----------------------------- 2/8 [pyarrow]\n",
      "   ---------- ----------------------------- 2/8 [pyarrow]\n",
      "   ---------- ----------------------------- 2/8 [pyarrow]\n",
      "   ---------- ----------------------------- 2/8 [pyarrow]\n",
      "   ---------- ----------------------------- 2/8 [pyarrow]\n",
      "   ---------- ----------------------------- 2/8 [pyarrow]\n",
      "   ---------- ----------------------------- 2/8 [pyarrow]\n",
      "   ---------- ----------------------------- 2/8 [pyarrow]\n",
      "   ---------- ----------------------------- 2/8 [pyarrow]\n",
      "   ---------- ----------------------------- 2/8 [pyarrow]\n",
      "   ---------- ----------------------------- 2/8 [pyarrow]\n",
      "   ---------- ----------------------------- 2/8 [pyarrow]\n",
      "   ---------- ----------------------------- 2/8 [pyarrow]\n",
      "   --------------- ------------------------ 3/8 [dill]\n",
      "   --------------- ------------------------ 3/8 [dill]\n",
      "   --------------- ------------------------ 3/8 [dill]\n",
      "   --------------- ------------------------ 3/8 [dill]\n",
      "   -------------------- ------------------- 4/8 [multiprocess]\n",
      "   -------------------- ------------------- 4/8 [multiprocess]\n",
      "   -------------------- ------------------- 4/8 [multiprocess]\n",
      "   -------------------- ------------------- 4/8 [multiprocess]\n",
      "   ------------------------- -------------- 5/8 [accelerate]\n",
      "   ------------------------- -------------- 5/8 [accelerate]\n",
      "   ------------------------- -------------- 5/8 [accelerate]\n",
      "   ------------------------- -------------- 5/8 [accelerate]\n",
      "   ------------------------- -------------- 5/8 [accelerate]\n",
      "   ------------------------- -------------- 5/8 [accelerate]\n",
      "   ------------------------- -------------- 5/8 [accelerate]\n",
      "   ------------------------- -------------- 5/8 [accelerate]\n",
      "   ------------------------- -------------- 5/8 [accelerate]\n",
      "   ------------------------------ --------- 6/8 [datasets]\n",
      "   ------------------------------ --------- 6/8 [datasets]\n",
      "   ------------------------------ --------- 6/8 [datasets]\n",
      "   ------------------------------ --------- 6/8 [datasets]\n",
      "   ------------------------------ --------- 6/8 [datasets]\n",
      "   ------------------------------ --------- 6/8 [datasets]\n",
      "   ------------------------------ --------- 6/8 [datasets]\n",
      "   ------------------------------ --------- 6/8 [datasets]\n",
      "   ------------------------------ --------- 6/8 [datasets]\n",
      "   ------------------------------ --------- 6/8 [datasets]\n",
      "   ----------------------------------- ---- 7/8 [evaluate]\n",
      "   ----------------------------------- ---- 7/8 [evaluate]\n",
      "   ----------------------------------- ---- 7/8 [evaluate]\n",
      "   ---------------------------------------- 8/8 [evaluate]\n",
      "\n",
      "Successfully installed accelerate-1.10.0 datasets-4.0.0 dill-0.3.8 evaluate-0.4.5 multiprocess-0.70.16 pyarrow-21.0.0 sentencepiece-0.2.1 xxhash-3.5.0\n"
     ]
    }
   ],
   "source": [
    "!pip install transformers datasets sentencepiece accelerate evaluate "
   ]
  },
  {
   "cell_type": "code",
   "execution_count": 2,
   "id": "f28c3725",
   "metadata": {},
   "outputs": [
    {
     "name": "stdout",
     "output_type": "stream",
     "text": [
      "Requirement already satisfied: torch in c:\\users\\asif computer\\appdata\\local\\programs\\python\\python310\\lib\\site-packages (2.7.0)\n",
      "Requirement already satisfied: filelock in c:\\users\\asif computer\\appdata\\local\\programs\\python\\python310\\lib\\site-packages (from torch) (3.17.0)\n",
      "Requirement already satisfied: typing-extensions>=4.10.0 in c:\\users\\asif computer\\appdata\\local\\programs\\python\\python310\\lib\\site-packages (from torch) (4.12.2)\n",
      "Requirement already satisfied: sympy>=1.13.3 in c:\\users\\asif computer\\appdata\\local\\programs\\python\\python310\\lib\\site-packages (from torch) (1.14.0)\n",
      "Requirement already satisfied: networkx in c:\\users\\asif computer\\appdata\\local\\programs\\python\\python310\\lib\\site-packages (from torch) (3.4.2)\n",
      "Requirement already satisfied: jinja2 in c:\\users\\asif computer\\appdata\\local\\programs\\python\\python310\\lib\\site-packages (from torch) (3.1.5)\n",
      "Requirement already satisfied: fsspec in c:\\users\\asif computer\\appdata\\local\\programs\\python\\python310\\lib\\site-packages (from torch) (2025.2.0)\n",
      "Requirement already satisfied: mpmath<1.4,>=1.1.0 in c:\\users\\asif computer\\appdata\\local\\programs\\python\\python310\\lib\\site-packages (from sympy>=1.13.3->torch) (1.3.0)\n",
      "Requirement already satisfied: MarkupSafe>=2.0 in c:\\users\\asif computer\\appdata\\local\\programs\\python\\python310\\lib\\site-packages (from jinja2->torch) (3.0.2)\n"
     ]
    }
   ],
   "source": [
    "!pip install torch"
   ]
  },
  {
   "cell_type": "code",
   "execution_count": 3,
   "id": "d823955c",
   "metadata": {},
   "outputs": [
    {
     "name": "stderr",
     "output_type": "stream",
     "text": [
      "c:\\Users\\Asif Computer\\AppData\\Local\\Programs\\Python\\Python310\\lib\\site-packages\\tqdm\\auto.py:21: TqdmWarning: IProgress not found. Please update jupyter and ipywidgets. See https://ipywidgets.readthedocs.io/en/stable/user_install.html\n",
      "  from .autonotebook import tqdm as notebook_tqdm\n",
      "The cache for model files in Transformers v4.22.0 has been updated. Migrating your old cache. This is a one-time only operation. You can interrupt this and resume the migration later on by calling `transformers.utils.move_cache()`.\n",
      "0it [00:00, ?it/s]\n"
     ]
    }
   ],
   "source": [
    "import torch , transformers"
   ]
  },
  {
   "cell_type": "code",
   "execution_count": 7,
   "id": "9190c9cd",
   "metadata": {},
   "outputs": [
    {
     "name": "stdout",
     "output_type": "stream",
     "text": [
      "version of torch: 2.7.0+cpu\n",
      "version of transformer: 4.48.3\n",
      "check cuda is available : False\n"
     ]
    }
   ],
   "source": [
    "print('version of torch:', torch.__version__)\n",
    "print ('version of transformer:',transformers.__version__)\n",
    "print ('check cuda is available :', torch.cuda.is_available())"
   ]
  },
  {
   "cell_type": "code",
   "execution_count": 8,
   "id": "cccd9e0b",
   "metadata": {},
   "outputs": [
    {
     "name": "stderr",
     "output_type": "stream",
     "text": [
      "c:\\Users\\Asif Computer\\AppData\\Local\\Programs\\Python\\Python310\\lib\\site-packages\\huggingface_hub\\file_download.py:140: UserWarning: `huggingface_hub` cache-system uses symlinks by default to efficiently store duplicated files but your machine does not support them in C:\\Users\\Asif Computer\\.cache\\huggingface\\hub\\models--t5-small. Caching files will still work but in a degraded version that might require more space on your disk. This warning can be disabled by setting the `HF_HUB_DISABLE_SYMLINKS_WARNING` environment variable. For more details, see https://huggingface.co/docs/huggingface_hub/how-to-cache#limitations.\n",
      "To support symlinks on Windows, you either need to activate Developer Mode or to run Python as an administrator. In order to activate developer mode, see this article: https://docs.microsoft.com/en-us/windows/apps/get-started/enable-your-device-for-development\n",
      "  warnings.warn(message)\n"
     ]
    },
    {
     "name": "stdout",
     "output_type": "stream",
     "text": [
      "WARNING:tensorflow:From c:\\Users\\Asif Computer\\AppData\\Local\\Programs\\Python\\Python310\\lib\\site-packages\\keras\\src\\losses.py:2976: The name tf.losses.sparse_softmax_cross_entropy is deprecated. Please use tf.compat.v1.losses.sparse_softmax_cross_entropy instead.\n",
      "\n"
     ]
    }
   ],
   "source": [
    "from transformers import AutoTokenizer , AutoModelForSeq2SeqLM\n",
    "model_name = \"t5-small\" \n",
    "\n",
    "tokenizer = AutoTokenizer.from_pretrained(model_name)\n",
    "model = AutoModelForSeq2SeqLM.from_pretrained(model_name)\n"
   ]
  },
  {
   "cell_type": "code",
   "execution_count": 15,
   "id": "0b5df8e7",
   "metadata": {},
   "outputs": [
    {
     "name": "stdout",
     "output_type": "stream",
     "text": [
      "input: translate english into german: this house is wonderful.\n",
      "output Dieses Haus ist wunderbar.\n",
      "input: summarize: the quick brown fox jumpsover the lazy dog. the dog was not amused \n",
      "output the quick brown fox jumpsover the lazy dog was not amused.\n"
     ]
    }
   ],
   "source": [
    "examples = [\"translate english into german: this house is wonderful.\",\n",
    "            \"summarize: the quick brown fox jumpsover the lazy dog. the dog was not amused \"]\n",
    "for text in examples:\n",
    "    input = tokenizer(text , return_tensors=\"pt\", truncation=True)\n",
    "    output = model.generate(**input, max_length = 64, num_beams=4, early_stopping=True)\n",
    "    print(\"input:\", text)\n",
    "    print(\"output\", tokenizer.decode(output[0],skip_special_tokens=True))"
   ]
  },
  {
   "cell_type": "code",
   "execution_count": 17,
   "id": "fe45f68b",
   "metadata": {},
   "outputs": [
    {
     "name": "stdout",
     "output_type": "stream",
     "text": [
      "outputs: convert it into german: my name is bilal and i am new to this software house\n",
      "outputs: today was my statistics paper the paper was quite difficult but i was prepared for it and that helps me alot.\n"
     ]
    }
   ],
   "source": [
    "notes = [ \"convert it into german: my name is bilal and i am new to to this software house \",\n",
    "         \"summarize : today was my statistics paper the paper was quite difficult  but  i was prepared for it and that helps me alot \"]\n",
    "for note in notes:\n",
    "    inputs = tokenizer(note, return_tensors=\"pt\",truncation=True)\n",
    "    outputs = model.generate(**inputs,max_length=64,num_beams=4, early_stopping=True)\n",
    "\n",
    "    print(\"outputs:\",tokenizer.decode(outputs[0],skip_special_tokens=True))"
   ]
  },
  {
   "cell_type": "code",
   "execution_count": 19,
   "id": "e66f0dd5",
   "metadata": {},
   "outputs": [
    {
     "name": "stdout",
     "output_type": "stream",
     "text": [
      "['▁the', '▁quick', '▁brown', '▁', 'fox', '▁jump', 's', '▁over', '▁the', '▁lazy', '▁dog', '.']\n"
     ]
    }
   ],
   "source": [
    "s = \"the quick brown fox jumps over the lazy dog.\"\n",
    "tokens = tokenizer.tokenize(s)\n",
    "ids = tokenizer(s).input_ids\n",
    "print (tokens)"
   ]
  },
  {
   "cell_type": "code",
   "execution_count": 20,
   "id": "756b06b5",
   "metadata": {},
   "outputs": [
    {
     "name": "stdout",
     "output_type": "stream",
     "text": [
      "decoded back : the quick brown fox jumps over the lazy dog.</s>\n"
     ]
    }
   ],
   "source": [
    "print (\"decoded back :\", tokenizer.decode(ids))"
   ]
  },
  {
   "cell_type": "code",
   "execution_count": 29,
   "id": "028238f3",
   "metadata": {},
   "outputs": [
    {
     "name": "stdout",
     "output_type": "stream",
     "text": [
      "{'num_beams': 1, 'do_sample': True, 'temperature': 1.0} => today was my statistics paper, the paper was quite difficult but i was prepared for it and that helps me alot.\n",
      "{'num_beams': 2, 'do_sample': False} => the paper was quite difficult but i was prepared for it and that helps me alot.\n",
      "{'num_beams': 4, 'do_sample': True, 'top_p': 0.9, 'temperature': 0.8} => today was my statistics paper the paper was quite difficult but i was prepared for it and that helps me alot.\n"
     ]
    }
   ],
   "source": [
    "prompt = \"parapharase : Artifiv=cial intelligence is channging the world\"\n",
    "params = [\n",
    "    {\"num_beams\":1,\"do_sample\":True, \"temperature\":1.0},\n",
    "    {\"num_beams\":2,\"do_sample\":False},\n",
    "    {\"num_beams\":4,\"do_sample\":True, \"top_p\":0.9,\"temperature\":0.8}\n",
    "]\n",
    "for p in params:\n",
    "    input=tokenizer(prompt,return_tensors=\"pt\")\n",
    "    out = model.generate(**inputs, max_new_tokens=40, **p)\n",
    "    print(p, \"=>\", tokenizer.decode(out[0], skip_special_tokens=True))"
   ]
  }
 ],
 "metadata": {
  "kernelspec": {
   "display_name": "Python 3",
   "language": "python",
   "name": "python3"
  },
  "language_info": {
   "codemirror_mode": {
    "name": "ipython",
    "version": 3
   },
   "file_extension": ".py",
   "mimetype": "text/x-python",
   "name": "python",
   "nbconvert_exporter": "python",
   "pygments_lexer": "ipython3",
   "version": "3.10.9"
  }
 },
 "nbformat": 4,
 "nbformat_minor": 5
}
